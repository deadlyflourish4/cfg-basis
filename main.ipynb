{
 "cells": [
  {
   "cell_type": "code",
   "execution_count": 1,
   "metadata": {},
   "outputs": [],
   "source": [
    "import pandas as pd"
   ]
  },
  {
   "cell_type": "markdown",
   "metadata": {},
   "source": [
    "# 1.a. Rules"
   ]
  },
  {
   "cell_type": "code",
   "execution_count": 7,
   "metadata": {},
   "outputs": [],
   "source": [
    "input_path = \"data/\"\n",
    "output_path = \"output/grammar.txt\""
   ]
  },
  {
   "cell_type": "code",
   "execution_count": 62,
   "metadata": {},
   "outputs": [
    {
     "data": {
      "text/html": [
       "<div>\n",
       "<style scoped>\n",
       "    .dataframe tbody tr th:only-of-type {\n",
       "        vertical-align: middle;\n",
       "    }\n",
       "\n",
       "    .dataframe tbody tr th {\n",
       "        vertical-align: top;\n",
       "    }\n",
       "\n",
       "    .dataframe thead th {\n",
       "        text-align: right;\n",
       "    }\n",
       "</style>\n",
       "<table border=\"1\" class=\"dataframe\">\n",
       "  <thead>\n",
       "    <tr style=\"text-align: right;\">\n",
       "      <th></th>\n",
       "      <th>NP -&gt; ART N</th>\n",
       "    </tr>\n",
       "  </thead>\n",
       "  <tbody>\n",
       "    <tr>\n",
       "      <th>0</th>\n",
       "      <td>NP -&gt; ART ADJ N</td>\n",
       "    </tr>\n",
       "    <tr>\n",
       "      <th>1</th>\n",
       "      <td>NP -&gt; ART N PP</td>\n",
       "    </tr>\n",
       "    <tr>\n",
       "      <th>2</th>\n",
       "      <td>NP -&gt; ART ADJ ADJ N</td>\n",
       "    </tr>\n",
       "    <tr>\n",
       "      <th>3</th>\n",
       "      <td>NP -&gt; DET N</td>\n",
       "    </tr>\n",
       "    <tr>\n",
       "      <th>4</th>\n",
       "      <td>NP -&gt; PRON</td>\n",
       "    </tr>\n",
       "  </tbody>\n",
       "</table>\n",
       "</div>"
      ],
      "text/plain": [
       "           NP -> ART N\n",
       "0      NP -> ART ADJ N\n",
       "1       NP -> ART N PP\n",
       "2  NP -> ART ADJ ADJ N\n",
       "3          NP -> DET N\n",
       "4           NP -> PRON"
      ]
     },
     "execution_count": 62,
     "metadata": {},
     "output_type": "execute_result"
    }
   ],
   "source": [
    "df = pd.read_excel(f\"{input_path}/sample_grammar_rules.xlsx\")\n",
    "df.head()"
   ]
  },
  {
   "cell_type": "code",
   "execution_count": 63,
   "metadata": {},
   "outputs": [
    {
     "name": "stdout",
     "output_type": "stream",
     "text": [
      "Thư mục hiện tại: d:\\HCMUT\\241\\CO3085_NLP\\assignment1\n"
     ]
    }
   ],
   "source": [
    "import os\n",
    "print(\"Thư mục hiện tại:\", os.getcwd())"
   ]
  },
  {
   "cell_type": "code",
   "execution_count": 64,
   "metadata": {},
   "outputs": [],
   "source": [
    "output_directory = 'output'\n",
    "os.makedirs(output_directory, exist_ok=True)\n",
    "\n",
    "output_path = os.path.join(output_directory, 'grammar.txt')\n",
    "\n",
    "with open(output_path, 'w', encoding='utf-8') as f:\n",
    "        for index, row in df.iterrows():\n",
    "            line = ', '.join(str(value) for value in row) \n",
    "            f.write(line + '\\n')  "
   ]
  },
  {
   "cell_type": "code",
   "execution_count": 67,
   "metadata": {},
   "outputs": [],
   "source": [
    "def convert_grammar_format(input_file, output_file):\n",
    "    with open(input_file, 'r', encoding='utf-8') as f:\n",
    "        lines = f.readlines()\n",
    "    \n",
    "    converted_rules = {}\n",
    "    for line in lines:\n",
    "        line = line.strip()\n",
    "        lhs, rhs = line.split('->')\n",
    "        lhs = lhs.strip()\n",
    "        rhs_parts = rhs.strip().split()\n",
    "\n",
    "        if lhs in converted_rules:\n",
    "            converted_rules[lhs].append(rhs_parts)\n",
    "        else:\n",
    "            converted_rules[lhs] = [rhs_parts]\n",
    "\n",
    "    with open(output_file, 'w', encoding='utf-8') as f:\n",
    "        for key, value in converted_rules.items():\n",
    "            f.write(f\"'{key}': {value},\\n\")\n",
    "\n",
    "input_file = \"output/grammar.txt\"  # Tên file đầu vào\n",
    "output_file = \"output/output.txt\"  # Tên file đầu ra\n",
    "convert_grammar_format(input_file, output_file)\n"
   ]
  },
  {
   "cell_type": "code",
   "execution_count": 6,
   "metadata": {},
   "outputs": [
    {
     "name": "stdout",
     "output_type": "stream",
     "text": [
      "Sinh câu:\n",
      "a dog on the treat saw a cat\n",
      "a dog on the treat liked the dog by a cat on the dog by a cat in the cat in a treat on the cat\n",
      "a cat in a cat in the cat liked a dog in the treat in the dog in the treat by the treat by a cat in the dog on a treat\n",
      "the cat on a treat in a cat saw the treat by the treat by the dog by a dog in a dog in the dog by a treat on a cat on the treat by the cat in a cat on a cat by a dog in the cat on the cat\n",
      "a cat in the cat in a cat on the treat chased the cat on a cat by the cat\n",
      "\n",
      "Phân tích cú pháp câu:\n",
      "Câu 'the dog chased a cat' không hợp lệ.\n"
     ]
    }
   ],
   "source": [
    "import random\n",
    "\n",
    "# Định nghĩa ngữ pháp bằng từ điển\n",
    "grammar = {\n",
    "    'S': [['NP', 'VP']],\n",
    "    'NP': [['Det', 'N'], ['Det', 'N', 'PP']],\n",
    "    'VP': [['V', 'NP'], ['VP', 'PP']],\n",
    "    'PP': [['P', 'NP']],\n",
    "    'Det': [['the'], ['a']],\n",
    "    'N': [['dog'], ['cat'], ['treat']],\n",
    "    'V': [['chased'], ['saw'], ['liked']],\n",
    "    'P': [['in'], ['on'], ['by']],\n",
    "}\n",
    "\n",
    "# Hàm sinh câu từ ngữ pháp\n",
    "def generate_sentence(symbol):\n",
    "    if symbol not in grammar:\n",
    "        return symbol  # Nếu là ký hiệu terminal, trả về ngay\n",
    "    \n",
    "    production = random.choice(grammar[symbol])  # Chọn một quy tắc sản xuất ngẫu nhiên\n",
    "    result = []\n",
    "    for part in production:\n",
    "        result.append(generate_sentence(part))  # Đệ quy cho mỗi phần\n",
    "    return ' '.join(result)  # Kết hợp các phần lại thành một câu\n",
    "\n",
    "# Hàm phân tích cú pháp\n",
    "def parse_sentence(sentence):\n",
    "    words = sentence.split()\n",
    "    return parse_helper(words, 'S')\n",
    "\n",
    "def parse_helper(words, symbol):\n",
    "    if not words:\n",
    "        return False\n",
    "    \n",
    "    if symbol not in grammar:\n",
    "        if words[0] == symbol:\n",
    "            return words[1:]  # Trả về danh sách từ còn lại\n",
    "        else:\n",
    "            return False\n",
    "\n",
    "    for production in grammar[symbol]:\n",
    "        remaining_words = words\n",
    "        for part in production:\n",
    "            remaining_words = parse_helper(remaining_words, part)\n",
    "            if remaining_words is False:\n",
    "                break\n",
    "        if remaining_words is not False:\n",
    "            return remaining_words  # Trả về danh sách từ còn lại\n",
    "\n",
    "    return False\n",
    "\n",
    "# Ví dụ sử dụng\n",
    "print(\"Sinh câu:\")\n",
    "for _ in range(5):\n",
    "    print(generate_sentence('S'))\n",
    "\n",
    "print(\"\\nPhân tích cú pháp câu:\")\n",
    "sentence = \"the dog chased a cat\"\n",
    "if parse_sentence(sentence):\n",
    "    print(f\"Câu '{sentence}' được phân tích cú pháp thành công.\")\n",
    "else:\n",
    "    print(f\"Câu '{sentence}' không hợp lệ.\")\n"
   ]
  },
  {
   "cell_type": "code",
   "execution_count": null,
   "metadata": {},
   "outputs": [],
   "source": []
  }
 ],
 "metadata": {
  "kernelspec": {
   "display_name": "Python 3",
   "language": "python",
   "name": "python3"
  },
  "language_info": {
   "codemirror_mode": {
    "name": "ipython",
    "version": 3
   },
   "file_extension": ".py",
   "mimetype": "text/x-python",
   "name": "python",
   "nbconvert_exporter": "python",
   "pygments_lexer": "ipython3",
   "version": "3.10.9"
  }
 },
 "nbformat": 4,
 "nbformat_minor": 2
}
